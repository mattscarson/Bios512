{
 "cells": [
  {
   "cell_type": "code",
   "execution_count": 1,
   "metadata": {},
   "outputs": [
    {
     "name": "stderr",
     "output_type": "stream",
     "text": [
      "── \u001b[1mAttaching packages\u001b[22m ─────────────────────────────────────── tidyverse 1.2.1 ──\n",
      "\n",
      "\u001b[32m✔\u001b[39m \u001b[34mggplot2\u001b[39m 3.2.0     \u001b[32m✔\u001b[39m \u001b[34mpurrr  \u001b[39m 0.3.2\n",
      "\u001b[32m✔\u001b[39m \u001b[34mtibble \u001b[39m 2.1.3     \u001b[32m✔\u001b[39m \u001b[34mdplyr  \u001b[39m 0.8.3\n",
      "\u001b[32m✔\u001b[39m \u001b[34mtidyr  \u001b[39m 0.8.3     \u001b[32m✔\u001b[39m \u001b[34mstringr\u001b[39m 1.4.0\n",
      "\u001b[32m✔\u001b[39m \u001b[34mreadr  \u001b[39m 1.3.1     \u001b[32m✔\u001b[39m \u001b[34mforcats\u001b[39m 0.4.0\n",
      "\n",
      "── \u001b[1mConflicts\u001b[22m ────────────────────────────────────────── tidyverse_conflicts() ──\n",
      "\u001b[31m✖\u001b[39m \u001b[34mdplyr\u001b[39m::\u001b[32mfilter()\u001b[39m masks \u001b[34mstats\u001b[39m::filter()\n",
      "\u001b[31m✖\u001b[39m \u001b[34mdplyr\u001b[39m::\u001b[32mlag()\u001b[39m    masks \u001b[34mstats\u001b[39m::lag()\n",
      "\n"
     ]
    }
   ],
   "source": [
    "library('tidyverse')"
   ]
  },
  {
   "cell_type": "code",
   "execution_count": 16,
   "metadata": {},
   "outputs": [
    {
     "name": "stderr",
     "output_type": "stream",
     "text": [
      "Parsed with column specification:\n",
      "cols(\n",
      "  .default = col_double(),\n",
      "  EPISODE = \u001b[31mcol_character()\u001b[39m,\n",
      "  TITLE = \u001b[31mcol_character()\u001b[39m\n",
      ")\n",
      "\n",
      "See spec(...) for full column specifications.\n",
      "\n"
     ]
    }
   ],
   "source": [
    "df = read_csv('https://raw.githubusercontent.com/fivethirtyeight/data/master/bob-ross/elements-by-episode.csv')"
   ]
  },
  {
   "cell_type": "code",
   "execution_count": 19,
   "metadata": {},
   "outputs": [
    {
     "data": {
      "text/html": [
       "<table>\n",
       "<caption>A tibble: 6 × 69</caption>\n",
       "<thead>\n",
       "\t<tr><th scope=col>EPISODE</th><th scope=col>TITLE</th><th scope=col>APPLE_FRAME</th><th scope=col>AURORA_BOREALIS</th><th scope=col>BARN</th><th scope=col>BEACH</th><th scope=col>BOAT</th><th scope=col>BRIDGE</th><th scope=col>BUILDING</th><th scope=col>BUSHES</th><th scope=col>⋯</th><th scope=col>TOMB_FRAME</th><th scope=col>TREE</th><th scope=col>TREES</th><th scope=col>TRIPLE_FRAME</th><th scope=col>WATERFALL</th><th scope=col>WAVES</th><th scope=col>WINDMILL</th><th scope=col>WINDOW_FRAME</th><th scope=col>WINTER</th><th scope=col>WOOD_FRAMED</th></tr>\n",
       "\t<tr><th scope=col>&lt;chr&gt;</th><th scope=col>&lt;chr&gt;</th><th scope=col>&lt;dbl&gt;</th><th scope=col>&lt;dbl&gt;</th><th scope=col>&lt;dbl&gt;</th><th scope=col>&lt;dbl&gt;</th><th scope=col>&lt;dbl&gt;</th><th scope=col>&lt;dbl&gt;</th><th scope=col>&lt;dbl&gt;</th><th scope=col>&lt;dbl&gt;</th><th scope=col>⋯</th><th scope=col>&lt;dbl&gt;</th><th scope=col>&lt;dbl&gt;</th><th scope=col>&lt;dbl&gt;</th><th scope=col>&lt;dbl&gt;</th><th scope=col>&lt;dbl&gt;</th><th scope=col>&lt;dbl&gt;</th><th scope=col>&lt;dbl&gt;</th><th scope=col>&lt;dbl&gt;</th><th scope=col>&lt;dbl&gt;</th><th scope=col>&lt;dbl&gt;</th></tr>\n",
       "</thead>\n",
       "<tbody>\n",
       "\t<tr><td>S01E01</td><td>\"A WALK IN THE WOODS\"</td><td>0</td><td>0</td><td>0</td><td>0</td><td>0</td><td>0</td><td>0</td><td>1</td><td>⋯</td><td>0</td><td>1</td><td>1</td><td>0</td><td>0</td><td>0</td><td>0</td><td>0</td><td>0</td><td>0</td></tr>\n",
       "\t<tr><td>S01E02</td><td>\"MT. MCKINLEY\"       </td><td>0</td><td>0</td><td>0</td><td>0</td><td>0</td><td>0</td><td>0</td><td>0</td><td>⋯</td><td>0</td><td>1</td><td>1</td><td>0</td><td>0</td><td>0</td><td>0</td><td>0</td><td>1</td><td>0</td></tr>\n",
       "\t<tr><td>S01E03</td><td>\"EBONY SUNSET\"       </td><td>0</td><td>0</td><td>0</td><td>0</td><td>0</td><td>0</td><td>0</td><td>0</td><td>⋯</td><td>0</td><td>1</td><td>1</td><td>0</td><td>0</td><td>0</td><td>0</td><td>0</td><td>1</td><td>0</td></tr>\n",
       "\t<tr><td>S01E04</td><td>\"WINTER MIST\"        </td><td>0</td><td>0</td><td>0</td><td>0</td><td>0</td><td>0</td><td>0</td><td>1</td><td>⋯</td><td>0</td><td>1</td><td>1</td><td>0</td><td>0</td><td>0</td><td>0</td><td>0</td><td>0</td><td>0</td></tr>\n",
       "\t<tr><td>S01E05</td><td>\"QUIET STREAM\"       </td><td>0</td><td>0</td><td>0</td><td>0</td><td>0</td><td>0</td><td>0</td><td>0</td><td>⋯</td><td>0</td><td>1</td><td>1</td><td>0</td><td>0</td><td>0</td><td>0</td><td>0</td><td>0</td><td>0</td></tr>\n",
       "\t<tr><td>S01E06</td><td>\"WINTER MOON\"        </td><td>0</td><td>0</td><td>0</td><td>0</td><td>0</td><td>0</td><td>0</td><td>0</td><td>⋯</td><td>0</td><td>1</td><td>1</td><td>0</td><td>0</td><td>0</td><td>0</td><td>0</td><td>1</td><td>0</td></tr>\n",
       "</tbody>\n",
       "</table>\n"
      ],
      "text/latex": [
       "A tibble: 6 × 69\n",
       "\\begin{tabular}{r|lllllllllllllllllllllllllllllllllllllllllllllllllllllllllllllllllllll}\n",
       " EPISODE & TITLE & APPLE\\_FRAME & AURORA\\_BOREALIS & BARN & BEACH & BOAT & BRIDGE & BUILDING & BUSHES & CABIN & CACTUS & CIRCLE\\_FRAME & CIRRUS & CLIFF & CLOUDS & CONIFER & CUMULUS & DECIDUOUS & DIANE\\_ANDRE & DOCK & DOUBLE\\_OVAL\\_FRAME & FARM & FENCE & FIRE & FLORIDA\\_FRAME & FLOWERS & FOG & FRAMED & GRASS & GUEST & HALF\\_CIRCLE\\_FRAME & HALF\\_OVAL\\_FRAME & HILLS & LAKE & LAKES & LIGHTHOUSE & MILL & MOON & MOUNTAIN & MOUNTAINS & NIGHT & OCEAN & OVAL\\_FRAME & PALM\\_TREES & PATH & PERSON & PORTRAIT & RECTANGLE\\_3D\\_FRAME & RECTANGULAR\\_FRAME & RIVER & ROCKS & SEASHELL\\_FRAME & SNOW & SNOWY\\_MOUNTAIN & SPLIT\\_FRAME & STEVE\\_ROSS & STRUCTURE & SUN & TOMB\\_FRAME & TREE & TREES & TRIPLE\\_FRAME & WATERFALL & WAVES & WINDMILL & WINDOW\\_FRAME & WINTER & WOOD\\_FRAMED\\\\\n",
       " <chr> & <chr> & <dbl> & <dbl> & <dbl> & <dbl> & <dbl> & <dbl> & <dbl> & <dbl> & <dbl> & <dbl> & <dbl> & <dbl> & <dbl> & <dbl> & <dbl> & <dbl> & <dbl> & <dbl> & <dbl> & <dbl> & <dbl> & <dbl> & <dbl> & <dbl> & <dbl> & <dbl> & <dbl> & <dbl> & <dbl> & <dbl> & <dbl> & <dbl> & <dbl> & <dbl> & <dbl> & <dbl> & <dbl> & <dbl> & <dbl> & <dbl> & <dbl> & <dbl> & <dbl> & <dbl> & <dbl> & <dbl> & <dbl> & <dbl> & <dbl> & <dbl> & <dbl> & <dbl> & <dbl> & <dbl> & <dbl> & <dbl> & <dbl> & <dbl> & <dbl> & <dbl> & <dbl> & <dbl> & <dbl> & <dbl> & <dbl> & <dbl> & <dbl>\\\\\n",
       "\\hline\n",
       "\t S01E01 & \"A WALK IN THE WOODS\" & 0 & 0 & 0 & 0 & 0 & 0 & 0 & 1 & 0 & 0 & 0 & 0 & 0 & 0 & 0 & 0 & 1 & 0 & 0 & 0 & 0 & 0 & 0 & 0 & 0 & 0 & 0 & 1 & 0 & 0 & 0 & 0 & 0 & 0 & 0 & 0 & 0 & 0 & 0 & 0 & 0 & 0 & 0 & 0 & 0 & 0 & 0 & 0 & 1 & 0 & 0 & 0 & 0 & 0 & 0 & 0 & 0 & 0 & 1 & 1 & 0 & 0 & 0 & 0 & 0 & 0 & 0\\\\\n",
       "\t S01E02 & \"MT. MCKINLEY\"        & 0 & 0 & 0 & 0 & 0 & 0 & 0 & 0 & 1 & 0 & 0 & 0 & 0 & 1 & 1 & 0 & 0 & 0 & 0 & 0 & 0 & 0 & 0 & 0 & 0 & 0 & 0 & 0 & 0 & 0 & 0 & 0 & 0 & 0 & 0 & 0 & 0 & 1 & 0 & 0 & 0 & 0 & 0 & 0 & 0 & 0 & 0 & 0 & 0 & 0 & 0 & 1 & 1 & 0 & 0 & 0 & 0 & 0 & 1 & 1 & 0 & 0 & 0 & 0 & 0 & 1 & 0\\\\\n",
       "\t S01E03 & \"EBONY SUNSET\"        & 0 & 0 & 0 & 0 & 0 & 0 & 0 & 0 & 1 & 0 & 0 & 0 & 0 & 0 & 1 & 0 & 0 & 0 & 0 & 0 & 0 & 1 & 0 & 0 & 0 & 0 & 0 & 0 & 0 & 0 & 0 & 0 & 0 & 0 & 0 & 0 & 0 & 1 & 1 & 0 & 0 & 0 & 0 & 0 & 0 & 0 & 0 & 0 & 0 & 0 & 0 & 0 & 0 & 0 & 0 & 1 & 1 & 0 & 1 & 1 & 0 & 0 & 0 & 0 & 0 & 1 & 0\\\\\n",
       "\t S01E04 & \"WINTER MIST\"         & 0 & 0 & 0 & 0 & 0 & 0 & 0 & 1 & 0 & 0 & 0 & 0 & 0 & 1 & 1 & 0 & 0 & 0 & 0 & 0 & 0 & 0 & 0 & 0 & 0 & 0 & 0 & 0 & 0 & 0 & 0 & 0 & 1 & 0 & 0 & 0 & 0 & 1 & 0 & 0 & 0 & 0 & 0 & 0 & 0 & 0 & 0 & 0 & 0 & 0 & 0 & 0 & 1 & 0 & 0 & 0 & 0 & 0 & 1 & 1 & 0 & 0 & 0 & 0 & 0 & 0 & 0\\\\\n",
       "\t S01E05 & \"QUIET STREAM\"        & 0 & 0 & 0 & 0 & 0 & 0 & 0 & 0 & 0 & 0 & 0 & 0 & 0 & 0 & 0 & 0 & 1 & 0 & 0 & 0 & 0 & 0 & 0 & 0 & 0 & 0 & 0 & 0 & 0 & 0 & 0 & 0 & 0 & 0 & 0 & 0 & 0 & 0 & 0 & 0 & 0 & 0 & 0 & 0 & 0 & 0 & 0 & 0 & 1 & 1 & 0 & 0 & 0 & 0 & 0 & 0 & 0 & 0 & 1 & 1 & 0 & 0 & 0 & 0 & 0 & 0 & 0\\\\\n",
       "\t S01E06 & \"WINTER MOON\"         & 0 & 0 & 0 & 0 & 0 & 0 & 0 & 0 & 1 & 0 & 0 & 0 & 0 & 0 & 1 & 0 & 0 & 0 & 0 & 0 & 0 & 0 & 0 & 0 & 0 & 0 & 0 & 0 & 0 & 0 & 0 & 0 & 1 & 0 & 0 & 0 & 1 & 1 & 1 & 1 & 0 & 0 & 0 & 0 & 0 & 0 & 0 & 0 & 0 & 0 & 0 & 1 & 1 & 0 & 0 & 1 & 0 & 0 & 1 & 1 & 0 & 0 & 0 & 0 & 0 & 1 & 0\\\\\n",
       "\\end{tabular}\n"
      ],
      "text/markdown": [
       "\n",
       "A tibble: 6 × 69\n",
       "\n",
       "| EPISODE &lt;chr&gt; | TITLE &lt;chr&gt; | APPLE_FRAME &lt;dbl&gt; | AURORA_BOREALIS &lt;dbl&gt; | BARN &lt;dbl&gt; | BEACH &lt;dbl&gt; | BOAT &lt;dbl&gt; | BRIDGE &lt;dbl&gt; | BUILDING &lt;dbl&gt; | BUSHES &lt;dbl&gt; | ⋯ ⋯ | TOMB_FRAME &lt;dbl&gt; | TREE &lt;dbl&gt; | TREES &lt;dbl&gt; | TRIPLE_FRAME &lt;dbl&gt; | WATERFALL &lt;dbl&gt; | WAVES &lt;dbl&gt; | WINDMILL &lt;dbl&gt; | WINDOW_FRAME &lt;dbl&gt; | WINTER &lt;dbl&gt; | WOOD_FRAMED &lt;dbl&gt; |\n",
       "|---|---|---|---|---|---|---|---|---|---|---|---|---|---|---|---|---|---|---|---|---|\n",
       "| S01E01 | \"A WALK IN THE WOODS\" | 0 | 0 | 0 | 0 | 0 | 0 | 0 | 1 | ⋯ | 0 | 1 | 1 | 0 | 0 | 0 | 0 | 0 | 0 | 0 |\n",
       "| S01E02 | \"MT. MCKINLEY\"        | 0 | 0 | 0 | 0 | 0 | 0 | 0 | 0 | ⋯ | 0 | 1 | 1 | 0 | 0 | 0 | 0 | 0 | 1 | 0 |\n",
       "| S01E03 | \"EBONY SUNSET\"        | 0 | 0 | 0 | 0 | 0 | 0 | 0 | 0 | ⋯ | 0 | 1 | 1 | 0 | 0 | 0 | 0 | 0 | 1 | 0 |\n",
       "| S01E04 | \"WINTER MIST\"         | 0 | 0 | 0 | 0 | 0 | 0 | 0 | 1 | ⋯ | 0 | 1 | 1 | 0 | 0 | 0 | 0 | 0 | 0 | 0 |\n",
       "| S01E05 | \"QUIET STREAM\"        | 0 | 0 | 0 | 0 | 0 | 0 | 0 | 0 | ⋯ | 0 | 1 | 1 | 0 | 0 | 0 | 0 | 0 | 0 | 0 |\n",
       "| S01E06 | \"WINTER MOON\"         | 0 | 0 | 0 | 0 | 0 | 0 | 0 | 0 | ⋯ | 0 | 1 | 1 | 0 | 0 | 0 | 0 | 0 | 1 | 0 |\n",
       "\n"
      ],
      "text/plain": [
       "  EPISODE TITLE                 APPLE_FRAME AURORA_BOREALIS BARN BEACH BOAT\n",
       "1 S01E01  \"A WALK IN THE WOODS\" 0           0               0    0     0   \n",
       "2 S01E02  \"MT. MCKINLEY\"        0           0               0    0     0   \n",
       "3 S01E03  \"EBONY SUNSET\"        0           0               0    0     0   \n",
       "4 S01E04  \"WINTER MIST\"         0           0               0    0     0   \n",
       "5 S01E05  \"QUIET STREAM\"        0           0               0    0     0   \n",
       "6 S01E06  \"WINTER MOON\"         0           0               0    0     0   \n",
       "  BRIDGE BUILDING BUSHES ⋯ TOMB_FRAME TREE TREES TRIPLE_FRAME WATERFALL WAVES\n",
       "1 0      0        1      ⋯ 0          1    1     0            0         0    \n",
       "2 0      0        0      ⋯ 0          1    1     0            0         0    \n",
       "3 0      0        0      ⋯ 0          1    1     0            0         0    \n",
       "4 0      0        1      ⋯ 0          1    1     0            0         0    \n",
       "5 0      0        0      ⋯ 0          1    1     0            0         0    \n",
       "6 0      0        0      ⋯ 0          1    1     0            0         0    \n",
       "  WINDMILL WINDOW_FRAME WINTER WOOD_FRAMED\n",
       "1 0        0            0      0          \n",
       "2 0        0            1      0          \n",
       "3 0        0            1      0          \n",
       "4 0        0            0      0          \n",
       "5 0        0            0      0          \n",
       "6 0        0            1      0          "
      ]
     },
     "metadata": {},
     "output_type": "display_data"
    }
   ],
   "source": [
    "df %>% head"
   ]
  },
  {
   "cell_type": "code",
   "execution_count": 27,
   "metadata": {},
   "outputs": [],
   "source": [
    "df1 = df %>% as_tibble %>% gather(key, value, -'EPISODE', -'TITLE')"
   ]
  },
  {
   "cell_type": "code",
   "execution_count": 119,
   "metadata": {},
   "outputs": [],
   "source": [
    "plotme = df1 %>% subset(value=='1') %>% mutate(key = fct_infreq(key) %>% fct_lump(10) %>% fct_rev)"
   ]
  },
  {
   "cell_type": "code",
   "execution_count": 120,
   "metadata": {},
   "outputs": [
    {
     "data": {
      "text/html": [
       "<table>\n",
       "<caption>A tibble: 6 × 4</caption>\n",
       "<thead>\n",
       "\t<tr><th scope=col>EPISODE</th><th scope=col>TITLE</th><th scope=col>key</th><th scope=col>value</th></tr>\n",
       "\t<tr><th scope=col>&lt;chr&gt;</th><th scope=col>&lt;chr&gt;</th><th scope=col>&lt;fct&gt;</th><th scope=col>&lt;dbl&gt;</th></tr>\n",
       "</thead>\n",
       "<tbody>\n",
       "\t<tr><td>S17E08</td><td>\"VIEW FROM THE PARK\"</td><td>Other</td><td>1</td></tr>\n",
       "\t<tr><td>S08E13</td><td>\"NORTHERN LIGHTS\"   </td><td>Other</td><td>1</td></tr>\n",
       "\t<tr><td>S29E12</td><td>\"AURORA'S DANCE\"    </td><td>Other</td><td>1</td></tr>\n",
       "\t<tr><td>S03E11</td><td>\"RUSTIC BARN\"       </td><td>Other</td><td>1</td></tr>\n",
       "\t<tr><td>S05E10</td><td>\"THE WINDMILL\"      </td><td>Other</td><td>1</td></tr>\n",
       "\t<tr><td>S05E13</td><td>\"MEADOW STREAM\"     </td><td>Other</td><td>1</td></tr>\n",
       "</tbody>\n",
       "</table>\n"
      ],
      "text/latex": [
       "A tibble: 6 × 4\n",
       "\\begin{tabular}{r|llll}\n",
       " EPISODE & TITLE & key & value\\\\\n",
       " <chr> & <chr> & <fct> & <dbl>\\\\\n",
       "\\hline\n",
       "\t S17E08 & \"VIEW FROM THE PARK\" & Other & 1\\\\\n",
       "\t S08E13 & \"NORTHERN LIGHTS\"    & Other & 1\\\\\n",
       "\t S29E12 & \"AURORA'S DANCE\"     & Other & 1\\\\\n",
       "\t S03E11 & \"RUSTIC BARN\"        & Other & 1\\\\\n",
       "\t S05E10 & \"THE WINDMILL\"       & Other & 1\\\\\n",
       "\t S05E13 & \"MEADOW STREAM\"      & Other & 1\\\\\n",
       "\\end{tabular}\n"
      ],
      "text/markdown": [
       "\n",
       "A tibble: 6 × 4\n",
       "\n",
       "| EPISODE &lt;chr&gt; | TITLE &lt;chr&gt; | key &lt;fct&gt; | value &lt;dbl&gt; |\n",
       "|---|---|---|---|\n",
       "| S17E08 | \"VIEW FROM THE PARK\" | Other | 1 |\n",
       "| S08E13 | \"NORTHERN LIGHTS\"    | Other | 1 |\n",
       "| S29E12 | \"AURORA'S DANCE\"     | Other | 1 |\n",
       "| S03E11 | \"RUSTIC BARN\"        | Other | 1 |\n",
       "| S05E10 | \"THE WINDMILL\"       | Other | 1 |\n",
       "| S05E13 | \"MEADOW STREAM\"      | Other | 1 |\n",
       "\n"
      ],
      "text/plain": [
       "  EPISODE TITLE                key   value\n",
       "1 S17E08  \"VIEW FROM THE PARK\" Other 1    \n",
       "2 S08E13  \"NORTHERN LIGHTS\"    Other 1    \n",
       "3 S29E12  \"AURORA'S DANCE\"     Other 1    \n",
       "4 S03E11  \"RUSTIC BARN\"        Other 1    \n",
       "5 S05E10  \"THE WINDMILL\"       Other 1    \n",
       "6 S05E13  \"MEADOW STREAM\"      Other 1    "
      ]
     },
     "metadata": {},
     "output_type": "display_data"
    }
   ],
   "source": [
    "plotme %>% head"
   ]
  },
  {
   "cell_type": "code",
   "execution_count": 205,
   "metadata": {},
   "outputs": [
    {
     "data": {
      "image/png": "[encoded data removed]",
      "text/plain": [
       "plot without title"
      ]
     },
     "metadata": {
      "image/png": {
       "height": 420,
       "width": 420
      },
      "text/plain": {
       "height": 420,
       "width": 420
      }
     },
     "output_type": "display_data"
    }
   ],
   "source": [
    "p = ggplot(plotme, aes(x = key)) + geom_bar(fill = 'dodgerblue2')\n",
    "p = p + labs(title = \"The Paintings of Bob Ross\", \n",
    "        subtitle = \"Count containing each element\") \n",
    "p = p + coord_flip() + theme(plot.title = element_text(face = \"bold\", hjust = 0),\n",
    "        plot.subtitle = element_text(hjust = 0),\n",
    "        axis.text.x=element_blank(),\n",
    "        axis.ticks=element_blank(),\n",
    "        panel.background=element_blank(),\n",
    "        axis.title = element_blank()) \n",
    "# p = p + geom_text(y = 'key', label = summarize(count(n)))\n",
    "p"
   ]
  }
 ],
 "metadata": {
  "kernelspec": {
   "display_name": "R",
   "language": "R",
   "name": "ir"
  },
  "language_info": {
   "codemirror_mode": "r",
   "file_extension": ".r",
   "mimetype": "text/x-r-source",
   "name": "R",
   "pygments_lexer": "r",
   "version": "3.6.0"
  }
 },
 "nbformat": 4,
 "nbformat_minor": 2
}
